{
 "cells": [
  {
   "cell_type": "code",
   "execution_count": 2,
   "metadata": {},
   "outputs": [],
   "source": [
    "import os \n",
    "import pandas as pd"
   ]
  },
  {
   "cell_type": "code",
   "execution_count": 3,
   "metadata": {},
   "outputs": [],
   "source": [
    "data_dir = r\"E:\\Data\\mimic-iv-3.0\"\n",
    "hosp = 'hosp'\n",
    "icu = 'icu'"
   ]
  },
  {
   "cell_type": "code",
   "execution_count": 4,
   "metadata": {},
   "outputs": [],
   "source": [
    "hosp_dir_path = os.path.join(data_dir, hosp)\n",
    "icu_dir_path = os.path.join(data_dir,icu)"
   ]
  },
  {
   "cell_type": "code",
   "execution_count": 5,
   "metadata": {},
   "outputs": [],
   "source": [
    "admissions = pd.read_csv(os.path.join(hosp_dir_path,'admissions.csv'))\n",
    "icustays = pd.read_csv(os.path.join(icu_dir_path,'icustays.csv'))\n",
    "labevents = pd.read_csv(os.path.join(hosp_dir_path, 'labevents.csv'))\n",
    "chartevents = pd.read_csv(os.path.join(icu_dir_path, 'chartevents.csv'))"
   ]
  },
  {
   "cell_type": "markdown",
   "metadata": {},
   "source": [
    "# 입원 기간 데이터 정리"
   ]
  },
  {
   "cell_type": "code",
   "execution_count": null,
   "metadata": {},
   "outputs": [],
   "source": [
    "# datetime 형식으로 변환\n",
    "admissions['admittime'] = pd.to_datetime(admissions['admittime'])\n",
    "admissions['dischtime'] = pd.to_datetime(admissions['dischtime'])\n",
    "\n",
    "# 입원 기간 동안의 날짜 생성\n",
    "admissions['days_in_hospital'] = (admissions['dischtime'] - admissions['admittime']).dt.days\n"
   ]
  },
  {
   "cell_type": "markdown",
   "metadata": {},
   "source": [
    "# 일별로 환자 데이터 생성"
   ]
  },
  {
   "cell_type": "code",
   "execution_count": null,
   "metadata": {},
   "outputs": [],
   "source": [
    "# 각 환자마다 입원 기간 동안 날짜별로 데이터를 생성\n",
    "all_dates = []\n",
    "for index, row in admissions.iterrows():\n",
    "    for i in range(row['days_in_hospital'] + 1):\n",
    "        date = row['admittime'] + pd.Timedelta(days=i)\n",
    "        all_dates.append([row['subject_id'], row['hadm_id'], date])\n",
    "\n",
    "# DataFrame으로 변환\n",
    "daily_data = pd.DataFrame(all_dates, columns=['subject_id', 'hadm_id', 'date'])\n"
   ]
  },
  {
   "cell_type": "markdown",
   "metadata": {},
   "source": [
    "# 4. Vital Signs 및 Lab Results 결합"
   ]
  },
  {
   "cell_type": "code",
   "execution_count": null,
   "metadata": {},
   "outputs": [],
   "source": [
    "# # 예시: 크레아티닌 수치 (lab_id가 50912인 경우)\n",
    "creatinine_data = labevents[labevents['itemid'] == 50912]\n",
    "creatinine_data['charttime'] = pd.to_datetime(creatinine_data['charttime'])\n",
    "creatinine_data['date'] = creatinine_data['charttime'].dt.date\n",
    "\n",
    "# creatinine_data와 daily_data를 병합\n",
    "daily_data = pd.merge(daily_data, creatinine_data[['subject_id', 'date', 'valuenum']],\n",
    "                      how='left', on=['subject_id', 'date'])\n",
    "\n",
    "# 혈압 등의 vital signs 추가 (예시: itemid 220045는 혈압)\n",
    "blood_pressure_data = chartevents[chartevents['itemid'] == 220045]\n",
    "blood_pressure_data['charttime'] = pd.to_datetime(blood_pressure_data['charttime'])\n",
    "blood_pressure_data['date'] = blood_pressure_data['charttime'].dt.date\n",
    "\n",
    "# 베이스라인 크레아티닌 수치 계산 (입원 시 첫 크레아티닌 수치)\n",
    "baseline = creatinine_data.groupby(['subject_id', 'hadm_id']).first().reset_index()\n",
    "baseline = baseline.rename(columns={'valuenum': 'baseline_value', 'charttime': 'admission_time'})\n",
    "\n",
    "\n",
    "# 데이터 병합\n",
    "daily_data = pd.merge(daily_data, baseline[['subject_id', 'hadm_id', 'baseline_value']], on=['subject_id', 'hadm_id'])\n"
   ]
  },
  {
   "cell_type": "markdown",
   "metadata": {},
   "source": [
    "# 5. AKI 라벨링 (KDIGO 기준)"
   ]
  },
  {
   "cell_type": "code",
   "execution_count": 1,
   "metadata": {},
   "outputs": [
    {
     "ename": "NameError",
     "evalue": "name 'daily_data' is not defined",
     "output_type": "error",
     "traceback": [
      "\u001b[1;31m---------------------------------------------------------------------------\u001b[0m",
      "\u001b[1;31mNameError\u001b[0m                                 Traceback (most recent call last)",
      "Cell \u001b[1;32mIn[1], line 2\u001b[0m\n\u001b[0;32m      1\u001b[0m \u001b[38;5;66;03m# 이전 날짜의 크레아티닌 수치와 비교하여 변화량 계산\u001b[39;00m\n\u001b[1;32m----> 2\u001b[0m daily_data[\u001b[38;5;124m'\u001b[39m\u001b[38;5;124mcreatinine_previous\u001b[39m\u001b[38;5;124m'\u001b[39m] \u001b[38;5;241m=\u001b[39m \u001b[43mdaily_data\u001b[49m\u001b[38;5;241m.\u001b[39mgroupby(\u001b[38;5;124m'\u001b[39m\u001b[38;5;124msubject_id\u001b[39m\u001b[38;5;124m'\u001b[39m)[\u001b[38;5;124m'\u001b[39m\u001b[38;5;124mvaluenum_creatinine\u001b[39m\u001b[38;5;124m'\u001b[39m]\u001b[38;5;241m.\u001b[39mshift(\u001b[38;5;241m1\u001b[39m)\n\u001b[0;32m      3\u001b[0m daily_data[\u001b[38;5;124m'\u001b[39m\u001b[38;5;124mcreatinine_change\u001b[39m\u001b[38;5;124m'\u001b[39m] \u001b[38;5;241m=\u001b[39m (daily_data[\u001b[38;5;124m'\u001b[39m\u001b[38;5;124mvaluenum_creatinine\u001b[39m\u001b[38;5;124m'\u001b[39m] \u001b[38;5;241m-\u001b[39m daily_data[\u001b[38;5;124m'\u001b[39m\u001b[38;5;124mcreatinine_previous\u001b[39m\u001b[38;5;124m'\u001b[39m]) \u001b[38;5;241m/\u001b[39m daily_data[\u001b[38;5;124m'\u001b[39m\u001b[38;5;124mcreatinine_previous\u001b[39m\u001b[38;5;124m'\u001b[39m]\n\u001b[0;32m      5\u001b[0m \u001b[38;5;66;03m# KDIGO 기준 적용 (크레아티닌이 1.5배 이상 증가한 경우 AKI로 간주)\u001b[39;00m\n",
      "\u001b[1;31mNameError\u001b[0m: name 'daily_data' is not defined"
     ]
    }
   ],
   "source": [
    "# 절대 수치와 상대 수치 변화량 계산\n",
    "daily_data['creatinine_change'] = daily_data['valuenum'] - daily_data['baseline_value']\n",
    "daily_data['relative_change'] = (daily_data['valuenum'] / daily_data['baseline_value']) - 1\n",
    "\n",
    "\n",
    "# KDIGO 기준 적용 (1.5배 이상 증가하거나 절대 수치가 0.3 이상 증가한 경우)\n",
    "daily_data['AKI'] = (daily_data['creatinine_change'] >= 0.5).astype(int)\n",
    "print(daily_data.head())\n"
   ]
  },
  {
   "cell_type": "code",
   "execution_count": null,
   "metadata": {},
   "outputs": [],
   "source": [
    "daily_data.to_csv('daily_data_icu.csv', index=False)"
   ]
  }
 ],
 "metadata": {
  "kernelspec": {
   "display_name": "torch",
   "language": "python",
   "name": "python3"
  },
  "language_info": {
   "codemirror_mode": {
    "name": "ipython",
    "version": 3
   },
   "file_extension": ".py",
   "mimetype": "text/x-python",
   "name": "python",
   "nbconvert_exporter": "python",
   "pygments_lexer": "ipython3",
   "version": "3.10.14"
  }
 },
 "nbformat": 4,
 "nbformat_minor": 2
}
